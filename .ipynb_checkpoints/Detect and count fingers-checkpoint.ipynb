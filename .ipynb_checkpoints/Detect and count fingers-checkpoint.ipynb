{
 "cells": [
  {
   "cell_type": "markdown",
   "metadata": {},
   "source": [
    "# Detect and Count Fingers\n",
    "\n",
    "This is a Computer Vision Project to demonstrate various techniques in CV.  \n",
    "The aim of the project is to make a program that can locate fingers in the video, isolate and count them.  \n",
    "  \n",
    "Steps to Run:  \n",
    "    1.  Grab a ROI.\n",
    "    2.  Calculate a running average for some video frames. (initially 60)\n",
    "    3.  Once we get the average we can introduce hand in the ROI for detection.\n",
    "\n",
    "Method to count fingers:\n",
    "\n",
    "    1.  Calculate the external contour of the hand using Convex Hull and draw a polygon around it.   \n",
    "\n",
    "<img src=\"./07-Capstone-Project/hand_convex.png\">\n",
    "\n",
    "    2.  Calculate the center of the hand using math.    \n",
    "    3.  Calculate angle of the outer polygon points from the center to get the finger count.  \n",
    "    4.  Based on the distance from the center we can detect whether or not the finger is extended.\n",
    "    5.  Calculate distance between fingers using the angle.\n",
    "    \n"
   ]
  },
  {
   "cell_type": "code",
   "execution_count": 3,
   "metadata": {},
   "outputs": [],
   "source": [
    "import cv2\n",
    "import numpy as np\n",
    "from sklearn.metrics import pairwise\n",
    "import matplotlib.pyplot as plt\n",
    "%matplotlib inline"
   ]
  },
  {
   "cell_type": "code",
   "execution_count": 4,
   "metadata": {},
   "outputs": [],
   "source": [
    "# STEP:1 GLOBAL VARIABLES\n",
    "background = None \n",
    "\n",
    "accumulated_weight = 0.5\n",
    "\n",
    "roi_top = 20\n",
    "roi_botton = 300\n",
    "roi_left = 600\n",
    "roi_right = 300"
   ]
  },
  {
   "cell_type": "code",
   "execution_count": 5,
   "metadata": {},
   "outputs": [],
   "source": [
    "def calc_acc_avg(frame, accumulated_weight):\n",
    "    global background\n",
    "    \n",
    "    if background is None:\n",
    "        background = frame.copy().astype('float')\n",
    "        return None\n",
    "    \n",
    "    cv2.accumulateWeighted(frame, background, accumulated_weight)"
   ]
  },
  {
   "cell_type": "code",
   "execution_count": null,
   "metadata": {},
   "outputs": [],
   "source": []
  }
 ],
 "metadata": {
  "kernelspec": {
   "display_name": "Python 3",
   "language": "python",
   "name": "python3"
  },
  "language_info": {
   "codemirror_mode": {
    "name": "ipython",
    "version": 3
   },
   "file_extension": ".py",
   "mimetype": "text/x-python",
   "name": "python",
   "nbconvert_exporter": "python",
   "pygments_lexer": "ipython3",
   "version": "3.6.6"
  }
 },
 "nbformat": 4,
 "nbformat_minor": 2
}
